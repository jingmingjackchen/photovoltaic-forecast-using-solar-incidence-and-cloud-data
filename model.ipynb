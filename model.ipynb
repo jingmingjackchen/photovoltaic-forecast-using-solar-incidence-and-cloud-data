{
 "cells": [
  {
   "cell_type": "markdown",
   "metadata": {},
   "source": [
    "# Model\n"
   ]
  },
  {
   "cell_type": "code",
   "execution_count": 24,
   "metadata": {},
   "outputs": [],
   "source": [
    "import glob\n",
    "import os\n",
    "import json\n",
    "from datetime import datetime\n",
    "import math\n",
    "import requests"
   ]
  },
  {
   "cell_type": "markdown",
   "metadata": {},
   "source": [
    "### Load weather data from JSON\n"
   ]
  },
  {
   "cell_type": "code",
   "execution_count": 16,
   "metadata": {},
   "outputs": [],
   "source": [
    "list_of_files = glob.glob(\"data/*\")\n",
    "latest_file = max(list_of_files, key=os.path.getctime)\n",
    "\n",
    "with open(latest_file, \"r\") as f:\n",
    "    data = f.read()\n",
    "    data = json.loads(data)\n",
    "\n",
    "# get clouds data for next hour\n",
    "next_hour = datetime.now().hour + 1\n",
    "low_clouds = data[\"data_1h\"][\"lowclouds\"][next_hour]\n",
    "mid_clouds = data[\"data_1h\"][\"midclouds\"][next_hour]\n",
    "high_clouds = data[\"data_1h\"][\"highclouds\"][next_hour]"
   ]
  },
  {
   "cell_type": "markdown",
   "metadata": {},
   "source": [
    "### Obtain today's sunrise/sunset time\n"
   ]
  },
  {
   "cell_type": "code",
   "execution_count": 22,
   "metadata": {},
   "outputs": [
    {
     "name": "stdout",
     "output_type": "stream",
     "text": [
      "Sunrise: 2024-06-07 04:52:10\n",
      "Sunset: 2024-06-07 18:58:09\n"
     ]
    }
   ],
   "source": [
    "LAT = 31.09892\n",
    "LONG = 121.280426\n",
    "url = f\"https://api.sunrisesunset.io/json?lat={LAT}&lng={LONG}\"\n",
    "response = requests.get(url)\n",
    "response = response.json()\n",
    "sunrise = datetime.strptime(\n",
    "    response[\"results\"][\"date\"] + \" \" + response[\"results\"][\"sunrise\"],\n",
    "    \"%Y-%m-%d %I:%M:%S %p\",\n",
    ")\n",
    "sunset = datetime.strptime(\n",
    "    response[\"results\"][\"date\"] + \" \" + response[\"results\"][\"sunset\"],\n",
    "    \"%Y-%m-%d %I:%M:%S %p\",\n",
    ")"
   ]
  },
  {
   "cell_type": "markdown",
   "metadata": {},
   "source": [
    "### Calculate variables\n"
   ]
  },
  {
   "cell_type": "code",
   "execution_count": null,
   "metadata": {},
   "outputs": [],
   "source": [
    "C = 0.46\n",
    "D = 0.34\n",
    "E = 0.08\n",
    "F = 0.10\n",
    "\n",
    "scaling_factor = (\n",
    "    C * (100 - low_clouds) / 100\n",
    "    + D * (100 - mid_clouds) / 100\n",
    "    + E * (100 - high_clouds) / 100\n",
    "    + F\n",
    ")"
   ]
  },
  {
   "cell_type": "markdown",
   "metadata": {},
   "source": [
    "### Calculate solar incident angle\n"
   ]
  },
  {
   "cell_type": "code",
   "execution_count": null,
   "metadata": {},
   "outputs": [],
   "source": [
    "class cos_solar_incident_angle:\n",
    "    def __init__(self):\n",
    "        self.tilt_angle = math.radians(5)\n",
    "        self.azimuth_angle = math.radians(0)\n",
    "        self.set_day_of_year()\n",
    "        self.set_equation_of_time()\n",
    "        self.set_time_correction_factor()\n",
    "        self.set_ast_corrected_local_solar_time()\n",
    "        self.set_solar_declination()\n",
    "        self.set_hour_angle()\n",
    "        self.set_cos_incident_angle()\n",
    "\n",
    "    def set_day_of_year(self):\n",
    "        self.day_of_year = datetime.now().timetuple().tm_yday\n",
    "\n",
    "    def set_equation_of_time(self):\n",
    "        B = 360 * (self.day_of_year - 81) / 365\n",
    "        self.equation_of_time = (\n",
    "            9.87 * math.sin(math.radians(2 * B))\n",
    "            - 7.53 * math.cos(math.radians(B))\n",
    "            - 1.5 * math.sin(math.radians(B))\n",
    "        )  # minutes\n",
    "\n",
    "    def set_time_correction_factor(self):  # 8 refers to UTC+8\n",
    "        self.time_correction_factor = (\n",
    "            4 * (LONG - 8 * 15) + self.equation_of_time\n",
    "        )\n",
    "\n",
    "    def set_ast_corrected_local_solar_time(self):\n",
    "        self.ast_corrected_local_solar_time = (\n",
    "            datetime.now().hour + datetime.now().minute / 60\n",
    "        ) + self.time_correction_factor / 60  # hours\n",
    "\n",
    "    def set_solar_declination(self):\n",
    "        self.solar_declination = 23.45 * math.sin(\n",
    "            math.radians(360 * (self.day_of_year + 284) / 365)\n",
    "        )\n",
    "        self.solar_declination = math.radians(self.solar_declination)\n",
    "\n",
    "    def set_hour_angle(self):\n",
    "        self.hour_angle = 15 * (self.ast_corrected_local_solar_time - 12)\n",
    "        self.hour_angle = math.radians(self.hour_angle)\n",
    "\n",
    "    def set_cos_incident_angle(self):\n",
    "        delta = self.solar_declination\n",
    "        beta = self.tilt_angle\n",
    "        zeta = self.azimuth_angle\n",
    "        h = self.hour_angle\n",
    "        self.cos_incident_angle = (\n",
    "            (math.sin(LONG) * math.sin(delta))\n",
    "            - (math.cos(beta))\n",
    "            - (math.cos(LONG) * math.sin(delta) * math.sin(beta) * math.cos(zeta))\n",
    "            + (math.cos(LONG) * math.cos(delta) * math.cos(h) * math.cos(beta))\n",
    "            + (math.sin(LONG) * math.cos(delta) * math.cos(h) * math.sin(beta) * math.cos(zeta))\n",
    "            + (math.cos(delta) * math.sin(h) * math.sin(beta) * math.sin(zeta))\n",
    "        )\n"
   ]
  }
 ],
 "metadata": {
  "kernelspec": {
   "display_name": "noobiePowerPrediction",
   "language": "python",
   "name": "python3"
  },
  "language_info": {
   "codemirror_mode": {
    "name": "ipython",
    "version": 3
   },
   "file_extension": ".py",
   "mimetype": "text/x-python",
   "name": "python",
   "nbconvert_exporter": "python",
   "pygments_lexer": "ipython3",
   "version": "3.12.3"
  }
 },
 "nbformat": 4,
 "nbformat_minor": 2
}
