{
 "cells": [
  {
   "cell_type": "markdown",
   "metadata": {},
   "source": [
    "# Model\n"
   ]
  },
  {
   "cell_type": "code",
   "execution_count": null,
   "metadata": {},
   "outputs": [],
   "source": [
    "import glob\n",
    "import os\n",
    "import json\n",
    "from datetime import datetime\n",
    "import math\n",
    "import requests"
   ]
  },
  {
   "cell_type": "markdown",
   "metadata": {},
   "source": [
    "### Load weather data from JSON\n"
   ]
  },
  {
   "cell_type": "code",
   "execution_count": null,
   "metadata": {},
   "outputs": [],
   "source": [
    "list_of_files = glob.glob(\"data/*\")\n",
    "latest_file = max(list_of_files, key=os.path.getctime)\n",
    "\n",
    "with open(latest_file, \"r\") as f:\n",
    "    data = f.read()\n",
    "    data = json.loads(data)\n",
    "\n",
    "# get clouds data for next hour\n",
    "next_hour = datetime.now().hour + 1\n",
    "low_clouds = data[\"data_1h\"][\"lowclouds\"][next_hour]\n",
    "mid_clouds = data[\"data_1h\"][\"midclouds\"][next_hour]\n",
    "high_clouds = data[\"data_1h\"][\"highclouds\"][next_hour]"
   ]
  },
  {
   "cell_type": "markdown",
   "metadata": {},
   "source": [
    "### Obtain today's sunrise/sunset time\n"
   ]
  },
  {
   "cell_type": "code",
   "execution_count": null,
   "metadata": {},
   "outputs": [],
   "source": [
    "LAT = 31.09892\n",
    "LONG = 121.280426\n",
    "# url = f\"https://api.sunrisesunset.io/json?lat={LAT}&lng={LONG}\"\n",
    "# response = requests.get(url)\n",
    "# response = response.json()\n",
    "# sunrise = datetime.strptime(\n",
    "#     response[\"results\"][\"date\"] + \" \" + response[\"results\"][\"sunrise\"],\n",
    "#     \"%Y-%m-%d %I:%M:%S %p\",\n",
    "# )\n",
    "# sunset = datetime.strptime(\n",
    "#     response[\"results\"][\"date\"] + \" \" + response[\"results\"][\"sunset\"],\n",
    "#     \"%Y-%m-%d %I:%M:%S %p\",\n",
    "# )"
   ]
  },
  {
   "cell_type": "markdown",
   "metadata": {},
   "source": [
    "### Calculate variables\n"
   ]
  },
  {
   "cell_type": "code",
   "execution_count": null,
   "metadata": {},
   "outputs": [],
   "source": [
    "C = 0.46\n",
    "D = 0.34\n",
    "E = 0.08\n",
    "F = 0.10\n",
    "\n",
    "scaling_factor = (\n",
    "    C * (100 - low_clouds) / 100\n",
    "    + D * (100 - mid_clouds) / 100\n",
    "    + E * (100 - high_clouds) / 100\n",
    "    + F\n",
    ")"
   ]
  },
  {
   "cell_type": "markdown",
   "metadata": {},
   "source": [
    "### Calculate solar incident angle\n"
   ]
  },
  {
   "cell_type": "code",
   "execution_count": null,
   "metadata": {},
   "outputs": [],
   "source": [
    "class cos_solar_incident_angle:\n",
    "    def __init__(self):\n",
    "        self.tilt_angle = math.radians(5)  # angle from horizontal\n",
    "        self.azimuth_angle = math.radians(180)  # angle from north\n",
    "\n",
    "        # calculate solar time:\n",
    "        self.set_day_of_year()\n",
    "        self.set_equation_of_time()\n",
    "        self.set_time_correction_factor()\n",
    "        self.set_ast_corrected_local_solar_time()\n",
    "\n",
    "        # use solar time to calculate solar angle:\n",
    "        self.set_hour_angle()  # radians\n",
    "        self.set_solar_declination()  # radians\n",
    "\n",
    "        self.set_cos_incident_angle()\n",
    "\n",
    "    def set_day_of_year(self):\n",
    "        self.day_of_year = datetime.now().timetuple().tm_yday\n",
    "        # print(f\"day of year: {self.day_of_year}\")\n",
    "\n",
    "    def set_equation_of_time(self):\n",
    "        B = 360 * (self.day_of_year - 81) / 365\n",
    "        self.equation_of_time = (\n",
    "            9.87 * math.sin(math.radians(2 * B))\n",
    "            - 7.53 * math.cos(math.radians(B))\n",
    "            - 1.5 * math.sin(math.radians(B))\n",
    "        )  # minutes\n",
    "        # print(f\"equation of time: {self.equation_of_time} (minutes)\")\n",
    "\n",
    "    def set_time_correction_factor(self):  # 8 refers to UTC+8\n",
    "        self.time_correction_factor = (\n",
    "            4 * (LONG - 8 * 15) + self.equation_of_time\n",
    "        )\n",
    "        # print(\n",
    "        #     f\"time correction factor: {self.time_correction_factor} (minutes)\"\n",
    "        # )\n",
    "\n",
    "    def set_ast_corrected_local_solar_time(self):\n",
    "        self.ast_corrected_local_solar_time = (\n",
    "            datetime.now().hour + datetime.now().minute / 60\n",
    "        ) - self.time_correction_factor / 60  # hours\n",
    "        # print(\n",
    "        #     f\"ast corrected local solar time: {self.ast_corrected_local_solar_time} (hours out of 24-hour clock)\"\n",
    "        # )\n",
    "\n",
    "    def set_hour_angle(self):\n",
    "        self.hour_angle = (math.pi / 12) * (\n",
    "            self.ast_corrected_local_solar_time - 12\n",
    "        )\n",
    "        # print(f\"hour angle: {self.hour_angle} (radians negative)\")\n",
    "\n",
    "    def set_solar_declination(self):\n",
    "        self.solar_declination = -0.40928 * math.cos(\n",
    "            (self.day_of_year + 10) * (2 * math.pi / 365)\n",
    "        )\n",
    "        # print(\n",
    "        #     f\"solar declination: {self.solar_declination} (radians positive)\"\n",
    "        # )\n",
    "\n",
    "    def set_cos_incident_angle(self):\n",
    "        delta = self.solar_declination\n",
    "        beta = self.tilt_angle\n",
    "        zeta = self.azimuth_angle\n",
    "        omega = self.hour_angle\n",
    "        phi = math.radians(LAT)\n",
    "\n",
    "        self.cos_incident_angle = (\n",
    "            (math.sin(delta) * math.sin(phi) * math.cos(beta))\n",
    "            + (\n",
    "                math.sin(delta)\n",
    "                * math.cos(phi)\n",
    "                * math.sin(beta)\n",
    "                * math.cos(zeta)\n",
    "            )\n",
    "            + (\n",
    "                math.cos(delta)\n",
    "                * math.cos(phi)\n",
    "                * math.cos(omega)\n",
    "                * math.cos(beta)\n",
    "            )\n",
    "            - (\n",
    "                math.cos(delta)\n",
    "                * math.sin(phi)\n",
    "                * math.cos(omega)\n",
    "                * math.sin(beta)\n",
    "                * math.cos(zeta)\n",
    "            )\n",
    "            - (\n",
    "                math.cos(delta)\n",
    "                * math.sin(omega)\n",
    "                * math.sin(beta)\n",
    "                * math.sin(zeta)\n",
    "            )\n",
    "        )\n",
    "\n",
    "\n",
    "# angle = cos_solar_incident_angle()\n",
    "# print(angle.cos_incident_angle)\n",
    "# print(math.degrees(math.acos(angle.cos_incident_angle)))"
   ]
  }
 ],
 "metadata": {
  "kernelspec": {
   "display_name": "noobiePowerPrediction",
   "language": "python",
   "name": "python3"
  },
  "language_info": {
   "codemirror_mode": {
    "name": "ipython",
    "version": 3
   },
   "file_extension": ".py",
   "mimetype": "text/x-python",
   "name": "python",
   "nbconvert_exporter": "python",
   "pygments_lexer": "ipython3",
   "version": "3.12.3"
  }
 },
 "nbformat": 4,
 "nbformat_minor": 2
}
