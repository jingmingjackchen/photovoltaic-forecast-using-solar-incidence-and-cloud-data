{
 "cells": [
  {
   "cell_type": "markdown",
   "metadata": {},
   "source": [
    "# Fetch weather data using API\n"
   ]
  },
  {
   "cell_type": "code",
   "execution_count": 16,
   "metadata": {},
   "outputs": [],
   "source": [
    "from time import time\n",
    "from dotenv import dotenv_values\n",
    "import os\n",
    "import requests"
   ]
  },
  {
   "cell_type": "markdown",
   "metadata": {},
   "source": [
    "## Meteoblue API\n",
    "\n",
    "Get API keys:\n"
   ]
  },
  {
   "cell_type": "code",
   "execution_count": 17,
   "metadata": {},
   "outputs": [],
   "source": [
    "key = os.getenv(\"METEOBLUE_API_KEY\", default=None)\n",
    "if key is None:\n",
    "    env = dotenv_values()\n",
    "    key = env.get(\"METEOBLUE_API_KEY\")"
   ]
  },
  {
   "cell_type": "markdown",
   "metadata": {},
   "source": [
    "Fetch data from API, then write to file"
   ]
  },
  {
   "cell_type": "code",
   "execution_count": 18,
   "metadata": {},
   "outputs": [],
   "source": [
    "LAT = 31.09892\n",
    "LONG = 121.280426\n",
    "url = f\"https://my.meteoblue.com/packages/clouds-1h?apikey={key}&lat={LAT}&lon={LONG}&asl=16&format=json\"\n",
    "response = requests.get(url)\n",
    "data = response.json()\n",
    "with open(f\"data/weather_{int(time())}.json\", \"w\") as f:\n",
    "    f.write(response.text)"
   ]
  }
 ],
 "metadata": {
  "kernelspec": {
   "display_name": "Python 3",
   "language": "python",
   "name": "python3"
  },
  "language_info": {
   "codemirror_mode": {
    "name": "ipython",
    "version": 3
   },
   "file_extension": ".py",
   "mimetype": "text/x-python",
   "name": "python",
   "nbconvert_exporter": "python",
   "pygments_lexer": "ipython3",
   "version": "3.12.3"
  }
 },
 "nbformat": 4,
 "nbformat_minor": 2
}
