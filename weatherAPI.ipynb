{
 "cells": [
  {
   "cell_type": "markdown",
   "metadata": {},
   "source": [
    "# Fetch weather data using API\n"
   ]
  },
  {
   "cell_type": "code",
   "execution_count": null,
   "metadata": {},
   "outputs": [],
   "source": [
    "from time import time\n",
    "from dotenv import dotenv_values\n",
    "import os\n",
    "import requests"
   ]
  },
  {
   "cell_type": "markdown",
   "metadata": {},
   "source": [
    "## OpenWeather API\n",
    "\n",
    "Get API keys:\n"
   ]
  },
  {
   "cell_type": "code",
   "execution_count": null,
   "metadata": {},
   "outputs": [],
   "source": [
    "key = os.getenv(\"OPEN_WEATHER_API_KEY\", default=None)\n",
    "if key is None:\n",
    "    env = dotenv_values()\n",
    "    key = env.get(\"OPEN_WEATHER_API_KEY\")"
   ]
  },
  {
   "cell_type": "markdown",
   "metadata": {},
   "source": [
    "Fetch data from API"
   ]
  },
  {
   "cell_type": "code",
   "execution_count": null,
   "metadata": {},
   "outputs": [],
   "source": [
    "LAT = 31.09892\n",
    "LONG = 121.280426\n",
    "url_ = f\"https://api.openweathermap.org/data/2.5/onecall?lat={LAT}&lon={LONG}&appid={key}\"\n",
    "url = \"https://my.meteoblue.com/packages/clouds-1h?apikey=VIp903FJUGhZMCa4&lat=37.7749&lon=-122.419&asl=16&format=json\"\n",
    "# print(url)\n",
    "response = requests.get(url)\n",
    "data = response.json()\n",
    "# print(data)\n",
    "# write to file, auto increment filename\n",
    "with open(f\"data/weather_{int(time())}.json\", \"w\") as f:\n",
    "    f.write(response.text)"
   ]
  }
 ],
 "metadata": {
  "kernelspec": {
   "display_name": "Python 3",
   "language": "python",
   "name": "python3"
  },
  "language_info": {
   "codemirror_mode": {
    "name": "ipython",
    "version": 3
   },
   "file_extension": ".py",
   "mimetype": "text/x-python",
   "name": "python",
   "nbconvert_exporter": "python",
   "pygments_lexer": "ipython3",
   "version": "3.12.3"
  }
 },
 "nbformat": 4,
 "nbformat_minor": 2
}
